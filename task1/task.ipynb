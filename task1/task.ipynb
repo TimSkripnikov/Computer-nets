{
 "cells": [
  {
   "cell_type": "code",
   "execution_count": null,
   "metadata": {},
   "outputs": [
    {
     "name": "stdout",
     "output_type": "stream",
     "text": [
      "PING google.com (173.194.221.113) 56(84) bytes of data.\n",
      "64 bytes from lm-in-f113.1e100.net (173.194.221.113): icmp_seq=1 ttl=109 time=74.7 ms\n",
      "\n",
      "--- google.com ping statistics ---\n",
      "1 packets transmitted, 1 received, 0% packet loss, time 0ms\n",
      "rtt min/avg/max/mdev = 74.710/74.710/74.710/0.000 ms\n",
      "PING vk.com (87.240.132.78) 56(84) bytes of data.\n",
      "64 bytes from srv78-132-240-87.vk.com (87.240.132.78): icmp_seq=1 ttl=53 time=59.8 ms\n",
      "\n",
      "--- vk.com ping statistics ---\n",
      "1 packets transmitted, 1 received, 0% packet loss, time 0ms\n",
      "rtt min/avg/max/mdev = 59.789/59.789/59.789/0.000 ms\n"
     ]
    },
    {
     "name": "stderr",
     "output_type": "stream",
     "text": [
      "/tmp/ipykernel_10477/809880621.py:29: FutureWarning: The behavior of DataFrame concatenation with empty or all-NA entries is deprecated. In a future version, this will no longer exclude empty or all-NA columns when determining the result dtypes. To retain the old behavior, exclude the relevant entries before the concat operation.\n",
      "  data = pd.concat([data, df_new], ignore_index=True)\n",
      "ping: dfghjkl.ru: Name or service not known\n"
     ]
    },
    {
     "name": "stdout",
     "output_type": "stream",
     "text": [
      "PING mail.ru (94.100.180.200) 56(84) bytes of data.\n",
      "64 bytes from mail.ru (94.100.180.200): icmp_seq=1 ttl=54 time=144 ms\n",
      "\n",
      "--- mail.ru ping statistics ---\n",
      "1 packets transmitted, 1 received, 0% packet loss, time 0ms\n",
      "rtt min/avg/max/mdev = 143.959/143.959/143.959/0.000 ms\n",
      "PING nsu.ru (84.237.50.25) 56(84) bytes of data.\n",
      "64 bytes from host25.50.237.84.nsu.ru (84.237.50.25): icmp_seq=1 ttl=62 time=5.02 ms\n",
      "\n",
      "--- nsu.ru ping statistics ---\n",
      "1 packets transmitted, 1 received, 0% packet loss, time 0ms\n",
      "rtt min/avg/max/mdev = 5.024/5.024/5.024/0.000 ms\n",
      "PING oblsdusshor.ucoz.ru (193.109.246.68) 56(84) bytes of data.\n",
      "64 bytes from dev.ucoz.net (193.109.246.68): icmp_seq=1 ttl=55 time=59.0 ms\n",
      "\n",
      "--- oblsdusshor.ucoz.ru ping statistics ---\n",
      "1 packets transmitted, 1 received, 0% packet loss, time 0ms\n",
      "rtt min/avg/max/mdev = 58.965/58.965/58.965/0.000 ms\n",
      "PING app.roboflow.com (151.101.1.195) 56(84) bytes of data.\n",
      "64 bytes from 151.101.1.195: icmp_seq=1 ttl=54 time=204 ms\n",
      "\n",
      "--- app.roboflow.com ping statistics ---\n",
      "1 packets transmitted, 1 received, 0% packet loss, time 0ms\n",
      "rtt min/avg/max/mdev = 203.739/203.739/203.739/0.000 ms\n",
      "PING team.cft.ru (176.211.127.27) 56(84) bytes of data.\n",
      "\n",
      "--- team.cft.ru ping statistics ---\n",
      "1 packets transmitted, 0 received, 100% packet loss, time 0ms\n",
      "\n",
      "PING youtube.com (64.233.161.136) 56(84) bytes of data.\n",
      "64 bytes from lh-in-f136.1e100.net (64.233.161.136): icmp_seq=1 ttl=106 time=63.6 ms\n",
      "\n",
      "--- youtube.com ping statistics ---\n",
      "1 packets transmitted, 1 received, 0% packet loss, time 0ms\n",
      "rtt min/avg/max/mdev = 63.600/63.600/63.600/0.000 ms\n",
      "The data was saved to ping_results.csv\n"
     ]
    },
    {
     "name": "stderr",
     "output_type": "stream",
     "text": [
      "ping: sfdgfhfgd.ytr: Name or service not known\n"
     ]
    }
   ],
   "source": [
    "import os\n",
    "import re\n",
    "import pandas as pd\n",
    "\n",
    "addresses = [\"google.com\", \"dfghjkl.ru\", \"vk.com\", \"mail.ru\", \"nsu.ru\",  \n",
    "             \"oblsdusshor.ucoz.ru\", \"app.roboflow.com\", \"team.cft.ru\", \n",
    "             \"youtube.com\", \"sfdgfhfgd.ytr\"]\n",
    "\n",
    "data = pd.DataFrame(columns=[\"server_name\", \"min\", \"avg\", \"max\", \"mdev\"])\n",
    "\n",
    "for address in addresses:\n",
    "    response = os.system(\"ping -c 1 \" + address)\n",
    "    \n",
    "    if response == 0:\n",
    "        stream = os.popen(f\"ping -c 1 {address}\")\n",
    "        output = stream.read()\n",
    "        match = re.search(r\"min/avg/max/mdev = ([\\d.]+)/([\\d.]+)/([\\d.]+)/([\\d.]+)\", output)\n",
    "        if match:\n",
    "            min_time, avg_time, max_time, mdev_time = map(float, match.groups())\n",
    "            rows = []\n",
    "            rows.append([address, min_time, avg_time, max_time, mdev_time])\n",
    "            df_new = pd.DataFrame(rows, columns=[\"server_name\", \"min\", \"avg\", \"max\", \"mdev\"])\n",
    "    else:\n",
    "        rows = []\n",
    "        rows.append([address, 0, 0, 0, 0])    \n",
    "        df_new = pd.DataFrame(rows, columns=[\"server_name\", \"min\", \"avg\", \"max\", \"mdev\"])\n",
    "\n",
    "    data = pd.concat([data, df_new], ignore_index=True)\n",
    "       \n",
    "\n",
    "# Сохраняем в CSV\n",
    "data.to_csv(\"ping_results.csv\", index=False)\n",
    "\n",
    "print(\"The data was saved to ping_results.csv\")\n"
   ]
  }
 ],
 "metadata": {
  "kernelspec": {
   "display_name": "pac_env",
   "language": "python",
   "name": "python3"
  },
  "language_info": {
   "codemirror_mode": {
    "name": "ipython",
    "version": 3
   },
   "file_extension": ".py",
   "mimetype": "text/x-python",
   "name": "python",
   "nbconvert_exporter": "python",
   "pygments_lexer": "ipython3",
   "version": "3.12.3"
  }
 },
 "nbformat": 4,
 "nbformat_minor": 2
}
