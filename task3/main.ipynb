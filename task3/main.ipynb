{
 "cells": [
  {
   "cell_type": "markdown",
   "metadata": {},
   "source": [
    "## Задание 3\n",
    "\n",
    "Написать скрипт - парсер, ИСПОЛЬЗУЯ SELENIUM.\n",
    "\n",
    "Обязательно должен иметь пагинацию\n",
    "Желательно авторизацию\n",
    "\n",
    "Парсим что угодно, новостной сайт, интернет-магазин, без разницы.\n",
    "\n",
    "Параметров сохраняет не менее 4-х.\n",
    "\n",
    "Записывает всё в csv файл.\n",
    "\n",
    "Далее он же будет завязан на следующем задании."
   ]
  },
  {
   "cell_type": "code",
   "execution_count": 41,
   "metadata": {},
   "outputs": [],
   "source": [
    "from selenium import webdriver\n",
    "from selenium.webdriver.common.keys import Keys\n",
    "from selenium.webdriver.common.by import By\n",
    "from selenium.webdriver.chrome.service import Service\n",
    "from selenium.common.exceptions import TimeoutException\n",
    "\n",
    "from selenium.webdriver.support.ui import WebDriverWait\n",
    "from selenium.webdriver.support import expected_conditions as EC\n",
    "\n",
    "from webdriver_manager.chrome import ChromeDriverManager\n",
    "import pandas as pd\n",
    "import time\n",
    "\n"
   ]
  },
  {
   "cell_type": "markdown",
   "metadata": {},
   "source": [
    "### Авторизация"
   ]
  },
  {
   "cell_type": "code",
   "execution_count": 77,
   "metadata": {},
   "outputs": [],
   "source": [
    "driver = webdriver.Chrome(service=Service(ChromeDriverManager().install()))\n",
    "wait = WebDriverWait(driver, 10)\n",
    "driver.maximize_window()\n"
   ]
  },
  {
   "cell_type": "code",
   "execution_count": 66,
   "metadata": {},
   "outputs": [],
   "source": [
    "# Define the URL\n",
    "url = \"https://henderson.ru/\"\n",
    "driver.get(url)\n",
    "driver.implicitly_wait(15)\n",
    "\n"
   ]
  },
  {
   "cell_type": "code",
   "execution_count": 67,
   "metadata": {},
   "outputs": [],
   "source": [
    "import time\n",
    "time.sleep(2) "
   ]
  },
  {
   "cell_type": "code",
   "execution_count": 68,
   "metadata": {},
   "outputs": [],
   "source": [
    "WebDriverWait(driver, 10).until(\n",
    "    lambda d: d.execute_script(\"return document.readyState\") == \"complete\"\n",
    ")\n",
    "\n",
    "\n",
    "login_link = WebDriverWait(driver, 15).until(\n",
    "    EC.element_to_be_clickable((\n",
    "        By.XPATH, \n",
    "        '//a[normalize-space()=\"Войти\"]' \n",
    "    ))\n",
    ")\n",
    "login_link.click()"
   ]
  },
  {
   "cell_type": "code",
   "execution_count": 69,
   "metadata": {},
   "outputs": [],
   "source": [
    "email_radio_div = driver.find_element(By.XPATH, '//input[@type=\"radio\" and @value=\"email\"]/following-sibling::div')\n",
    "driver.execute_script(\"arguments[0].click();\", email_radio_div)\n"
   ]
  },
  {
   "cell_type": "code",
   "execution_count": 70,
   "metadata": {},
   "outputs": [],
   "source": [
    "\n",
    "email_input = wait.until(EC.visibility_of_element_located((\n",
    "    By.XPATH, \n",
    "    '//div[@id=\"auth-email\"]//input[@name=\"email\"]'\n",
    ")))\n",
    "email_input.clear()\n",
    "email_input.send_keys(\"artemsa1505@mail.ru\")\n",
    "\n",
    "\n",
    "password = wait.until(EC.visibility_of_element_located((By.XPATH, '//input[@type=\"password\"]')))\n",
    "password.clear()\n",
    "password.send_keys(\"df99ghjbnm\")"
   ]
  },
  {
   "cell_type": "code",
   "execution_count": 71,
   "metadata": {},
   "outputs": [],
   "source": [
    "button = wait.until(EC.visibility_of_element_located((By.XPATH, '//button[normalize-space()=\"Войти\"]' )))\n",
    "button.click()"
   ]
  },
  {
   "cell_type": "code",
   "execution_count": 72,
   "metadata": {},
   "outputs": [],
   "source": [
    "time.sleep(5) "
   ]
  },
  {
   "cell_type": "code",
   "execution_count": 73,
   "metadata": {},
   "outputs": [
    {
     "name": "stdout",
     "output_type": "stream",
     "text": [
      "Найдено кнопок: 2\n"
     ]
    },
    {
     "ename": "ValueError",
     "evalue": "invalid literal for int() with base 10: ''",
     "output_type": "error",
     "traceback": [
      "\u001b[0;31m---------------------------------------------------------------------------\u001b[0m",
      "\u001b[0;31mValueError\u001b[0m                                Traceback (most recent call last)",
      "Cell \u001b[0;32mIn[73], line 5\u001b[0m\n\u001b[1;32m      2\u001b[0m buttons[\u001b[38;5;241m1\u001b[39m]\u001b[38;5;241m.\u001b[39mclick()\n\u001b[1;32m      3\u001b[0m \u001b[38;5;28mprint\u001b[39m(\u001b[38;5;124mf\u001b[39m\u001b[38;5;124m\"\u001b[39m\u001b[38;5;124mНайдено кнопок: \u001b[39m\u001b[38;5;132;01m{\u001b[39;00m\u001b[38;5;28mlen\u001b[39m(buttons)\u001b[38;5;132;01m}\u001b[39;00m\u001b[38;5;124m\"\u001b[39m)\n\u001b[0;32m----> 5\u001b[0m code \u001b[38;5;241m=\u001b[39m \u001b[38;5;28;43mint\u001b[39;49m\u001b[43m(\u001b[49m\u001b[38;5;28;43minput\u001b[39;49m\u001b[43m(\u001b[49m\u001b[38;5;124;43m\"\u001b[39;49m\u001b[38;5;124;43mВведите код из СМС:\u001b[39;49m\u001b[38;5;124;43m\"\u001b[39;49m\u001b[43m)\u001b[49m\u001b[43m)\u001b[49m\n",
      "\u001b[0;31mValueError\u001b[0m: invalid literal for int() with base 10: ''"
     ]
    }
   ],
   "source": [
    "buttons = driver.find_elements(By.CLASS_NAME, \"js-send-sms\")\n",
    "buttons[1].click()\n",
    "print(f\"Найдено кнопок: {len(buttons)}\")\n",
    "\n",
    "code = int(input(\"Введите код из СМС:\"))"
   ]
  },
  {
   "cell_type": "markdown",
   "metadata": {},
   "source": [
    "### Парсинг"
   ]
  },
  {
   "cell_type": "code",
   "execution_count": 51,
   "metadata": {},
   "outputs": [],
   "source": [
    "driver = webdriver.Chrome(service=Service(ChromeDriverManager().install()))\n",
    "wait = WebDriverWait(driver, 10)\n",
    "driver.maximize_window()"
   ]
  },
  {
   "cell_type": "code",
   "execution_count": 55,
   "metadata": {},
   "outputs": [],
   "source": [
    "url_blazers = \"https://henderson.ru/catalog/blazers/\"\n",
    "driver.get(url_blazers)\n",
    "wait = WebDriverWait(driver, 5)"
   ]
  },
  {
   "cell_type": "code",
   "execution_count": null,
   "metadata": {},
   "outputs": [
    {
     "name": "stdout",
     "output_type": "stream",
     "text": [
      "✅ Достигли последней страницы! Число страниц: 3\n"
     ]
    }
   ],
   "source": [
    "data = []\n",
    "page = 1\n",
    "i = 0\n",
    "\n",
    "while True:\n",
    "    try:\n",
    "        element = wait.until(\n",
    "            EC.presence_of_all_elements_located((By.CLASS_NAME, \"list-product\"))\n",
    "        )\n",
    "\n",
    "        products = driver.find_elements(By.CLASS_NAME, \"list-product__item\")\n",
    "\n",
    "        for product in products:\n",
    "            title = product.get_attribute(\"data-product-name\").strip()\n",
    "            price = product.get_attribute(\"data-product-unitsaleprice\")\n",
    "            category = product.get_attribute(\"data-product-category\")\n",
    "            link = product.find_element(By.CSS_SELECTOR, \".card-product__name a\").get_attribute(\"href\")\n",
    "            img_url = product.find_element(By.CSS_SELECTOR, \".card-product__wrap-img img\").get_attribute(\"src\")\n",
    "\n",
    "            i +=1\n",
    "\n",
    "            data.append({\n",
    "                \"id_item\": i,\n",
    "                \"title\": title,\n",
    "                \"price\": price,\n",
    "                \"category\": category,\n",
    "                \"link\": link,\n",
    "                \"img_url\": img_url\n",
    "            })\n",
    "\n",
    "    except TimeoutException as _ex:\n",
    "        print(_ex)\n",
    "        break\n",
    "\n",
    "    try:\n",
    "        next_button = driver.find_element(By.CSS_SELECTOR, \"a.pagination-next\")  # Находим ссылку \"Следующая\"\n",
    "        next_page_url = next_button.get_attribute(\"href\") \n",
    "\n",
    "        driver.get(next_page_url)\n",
    "\n",
    "        page += 1\n",
    "        time.sleep(5)\n",
    "\n",
    "    except:\n",
    "        print(f\"Число страниц: {page}\")\n",
    "        \n",
    "        break\n",
    "    \n"
   ]
  },
  {
   "cell_type": "code",
   "execution_count": 57,
   "metadata": {},
   "outputs": [
    {
     "name": "stdout",
     "output_type": "stream",
     "text": [
      "{'id_item': 1, 'title': 'JT-0378-R LNAVY', 'price': '42999', 'category': '[\"Одежда\",\"Пиджаки повседневные\"]', 'link': 'https://henderson.ru/product/jt-0378-r-lnavy/', 'img_url': 'https://cdnstatic.henderson.ru/images/catalog/product/JT-0378-R/JT-0378-R-LNAVY-5-1.jpg'}\n",
      "{'id_item': 2, 'title': 'JT-0374-R NAVY', 'price': '21999', 'category': '[\"Одежда\",\"Пиджаки повседневные\"]', 'link': 'https://henderson.ru/product/jt-0374-r-navy/', 'img_url': 'https://cdnstatic.henderson.ru/images/catalog/product/JT-0374-R/JT-0374-R-NAVY-5-1.jpg'}\n",
      "{'id_item': 3, 'title': 'Повседневный пиджак из эластичной ткани, прямой силуэт JT-0369-R KHAKI', 'price': '21999', 'category': '[\"Одежда\",\"Пиджаки повседневные\"]', 'link': 'https://henderson.ru/product/jt-0369-r-khaki/', 'img_url': 'https://cdnstatic.henderson.ru/images/catalog/product/JT-0369-R/JT-0369-R-KHAKI-5-1.jpg'}\n",
      "{'id_item': 4, 'title': 'Пиджак повседневный из хлопка и льна на мужчин среднего телосложения JT-0381-R BLUE', 'price': '23999', 'category': '[\"Одежда\",\"Пиджаки повседневные\"]', 'link': 'https://henderson.ru/product/jt-0381-r-blue/', 'img_url': 'https://cdnstatic.henderson.ru/images/catalog/product/JT-0381-R/JT-0381-R-BLUE-5-1.jpg'}\n",
      "{'id_item': 5, 'title': 'Пиджак повседневный из хлопка и льна на мужчин плотного телосложения JT-0381-RP BLUE', 'price': '23999', 'category': '[\"Одежда\",\"Пиджаки повседневные\"]', 'link': 'https://henderson.ru/product/jt-0381-rp-blue/', 'img_url': 'https://cdnstatic.henderson.ru/images/catalog/product/JT-0381-RP/JT-0381-RP-BLUE-5-1.jpg'}\n",
      "{'id_item': 6, 'title': 'Пиджак из шерсти Lanificio Zignone на мужчин среднего телосложения JT-0379-R BLUE', 'price': '42999', 'category': '[\"Одежда\",\"Пиджаки повседневные\"]', 'link': 'https://henderson.ru/product/jt-0379-r-blue/', 'img_url': 'https://cdnstatic.henderson.ru/images/catalog/product/JT-0379-R/JT-0379-R-BLUE-5-1.jpg'}\n",
      "{'id_item': 7, 'title': 'Повседневный пиджак из ткани с содержанием вискозы, прямой силуэт JT-0371-R NAVY', 'price': '15995', 'category': '[\"Одежда\",\"Пиджаки повседневные\"]', 'link': 'https://henderson.ru/product/jt-0371-r-navy/', 'img_url': 'https://cdnstatic.henderson.ru/images/catalog/product/JT-0371-R/JT-0371-R-NAVY-5-1.jpg'}\n",
      "{'id_item': 8, 'title': 'Повседневный пиджак из ткани с содержанием вискозы, прямой силуэт JT-0370-R NAVY', 'price': '15995', 'category': '[\"Одежда\",\"Пиджаки повседневные\"]', 'link': 'https://henderson.ru/product/jt-0370-r-navy/', 'img_url': 'https://cdnstatic.henderson.ru/images/catalog/product/JT-0370-R/JT-0370-R-NAVY-5-1.jpg'}\n",
      "{'id_item': 9, 'title': 'Повседневный пиджак изо льна и хлопка, прямой силуэт JT-0367-R LNAVY', 'price': '23999', 'category': '[\"Одежда\",\"Пиджаки повседневные\"]', 'link': 'https://henderson.ru/product/jt-0367-r-lnavy/', 'img_url': 'https://cdnstatic.henderson.ru/images/catalog/product/JT-0367-R/JT-0367-R-LNAVY-5-1.jpg'}\n",
      "{'id_item': 10, 'title': 'Повседневный пиджак из ткани с содержанием вискозы, прилегающий силуэт JT-0383-SS BEIGE', 'price': '23999', 'category': '[\"Одежда\",\"Пиджаки повседневные\"]', 'link': 'https://henderson.ru/product/jt-0383-ss-beige/', 'img_url': 'https://cdnstatic.henderson.ru/images/catalog/product/JT-0383-SS/JT-0383-SS-BEIGE-5-1.jpg'}\n",
      "{'id_item': 11, 'title': 'Пиджак из шерсти Lanificio Zignone на мужчин среднего телосложения роста выше среднего JT-0379-S BLUE', 'price': '42999', 'category': '[\"Одежда\",\"Пиджаки повседневные\"]', 'link': 'https://henderson.ru/product/jt-0379-s-blue/', 'img_url': 'https://cdnstatic.henderson.ru/images/catalog/product/JT-0379-S/JT-0379-S-BLUE-5-1.jpg'}\n",
      "{'id_item': 12, 'title': 'Повседневный пиджак из ткани с содержанием вискозы, прямой силуэт JT-0383-R BEIGE', 'price': '23999', 'category': '[\"Одежда\",\"Пиджаки повседневные\"]', 'link': 'https://henderson.ru/product/jt-0383-r-beige/', 'img_url': 'https://cdnstatic.henderson.ru/images/catalog/product/JT-0383-R/JT-0383-R-BEIGE-5-7.jpg'}\n",
      "{'id_item': 13, 'title': 'Повседневный трикотажный пиджак, прямой силуэт JT-0382-R BEIGE', 'price': '25999', 'category': '[\"Одежда\",\"Пиджаки повседневные\"]', 'link': 'https://henderson.ru/product/jt-0382-r-beige/', 'img_url': 'https://cdnstatic.henderson.ru/images/catalog/product/JT-0382-R/JT-0382-R-BEIGE-5-4.jpg'}\n",
      "{'id_item': 14, 'title': 'Повседневный двубортный жилет из ткани с содержанием вискозы, прямой силуэт VC-0015-R BEIGE', 'price': '9999', 'category': '[\"Одежда\",\"Жилеты\",\"Пиджаки повседневные\"]', 'link': 'https://henderson.ru/product/vc-0015-r-beige/', 'img_url': 'https://cdnstatic.henderson.ru/images/catalog/product/VC-0015-R/VC-0015-R-BEIGE-5-1.jpg'}\n",
      "{'id_item': 15, 'title': 'Повседневный пиджак из ткани с содержанием вискозы, прямой силуэт JT-0372-R KHAKI', 'price': '15995', 'category': '[\"Одежда\",\"Пиджаки повседневные\"]', 'link': 'https://henderson.ru/product/jt-0372-r-khaki/', 'img_url': 'https://cdnstatic.henderson.ru/images/catalog/product/JT-0372-R/JT-0372-R-KHAKI-5-1.jpg'}\n",
      "{'id_item': 16, 'title': 'Повседневный пиджак из ткани с содержанием вискозы, прямой силуэт JT-0368-R LNAVY', 'price': '21999', 'category': '[\"Одежда\",\"Пиджаки повседневные\"]', 'link': 'https://henderson.ru/product/jt-0368-r-lnavy/', 'img_url': 'https://cdnstatic.henderson.ru/images/catalog/product/JT-0368-R/JT-0368-R-LNAVY-5-1.jpg'}\n",
      "{'id_item': 17, 'title': 'Повседневный пиджак изо льна и хлопка, полуприлегающий силуэт, на мужчину роста выше среднего JT-0367-S LNAVY', 'price': '23999', 'category': '[\"Одежда\",\"Пиджаки повседневные\"]', 'link': 'https://henderson.ru/product/jt-0367-s-lnavy/', 'img_url': 'https://cdnstatic.henderson.ru/images/catalog/product/JT-0367-S/JT-0367-S-LNAVY-5-1.jpg'}\n",
      "{'id_item': 18, 'title': 'Пиджак повседневный из ткани с содержанием льна, прямой, на мужчин среднего телосложения JT-0331-R BEIGE', 'price': '21999', 'category': '[\"Одежда\",\"Пиджаки повседневные\"]', 'link': 'https://henderson.ru/product/jt-0331-r-beige/', 'img_url': 'https://cdnstatic.henderson.ru/images/catalog/product/JT-0331-R/JT-0331-R-BEIGE-5-1.jpg'}\n",
      "{'id_item': 19, 'title': 'Пиджак повседневный из смеси хлопка и льна, прямой, на мужчин среднего телосложения JT-0330-R NAVY', 'price': '23999', 'category': '[\"Одежда\",\"Пиджаки повседневные\"]', 'link': 'https://henderson.ru/product/jt-0330-r-navy/', 'img_url': 'https://cdnstatic.henderson.ru/images/catalog/product/JT-0330-R/JT-0330-R-NAVY-5-1.jpg'}\n",
      "{'id_item': 20, 'title': 'Пиджак повседневный из хлопка и льна, полуприлегающий, на среднее телосложение рост выше среднего JT-0330-S NAVY', 'price': '23999', 'category': '[\"Одежда\",\"Пиджаки повседневные\"]', 'link': 'https://henderson.ru/product/jt-0330-s-navy/', 'img_url': 'https://cdnstatic.henderson.ru/images/catalog/product/JT-0330-S/JT-0330-S-NAVY-5-2.jpg'}\n",
      "{'id_item': 21, 'title': 'JT-0331-SS BEIGE', 'price': '21999', 'category': '[\"Одежда\",\"Пиджаки повседневные\"]', 'link': 'https://henderson.ru/product/jt-0331-ss-beige/', 'img_url': 'https://cdnstatic.henderson.ru/images/catalog/product/JT-0331-SS/JT-0331-SS-BEIGE-5-1.jpg'}\n",
      "{'id_item': 22, 'title': 'Повседневный вельветовый пиджак из хлопка, прямой силуэт JT-0373-R DYELLOW', 'price': '23999', 'category': '[\"Одежда\",\"Пиджаки повседневные\"]', 'link': 'https://henderson.ru/product/jt-0373-r-dyellow/', 'img_url': 'https://cdnstatic.henderson.ru/images/catalog/product/JT-0373-R/JT-0373-R-DYELLOW-5-1.jpg'}\n",
      "{'id_item': 23, 'title': 'Повседневный пиджак из шерсти от итальянской фабрики Lanificio Bottoli, прямой силуэт JT-0363-R BEIGE', 'price': '45999', 'category': '[\"Одежда\",\"Пиджаки повседневные\"]', 'link': 'https://henderson.ru/product/jt-0363-r-beige/', 'img_url': 'https://cdnstatic.henderson.ru/images/catalog/product/JT-0363-R/JT-0363-R-BEIGE-5-2.jpg'}\n",
      "{'id_item': 24, 'title': 'Трикотажный пиджак с накладными карманами, прямой, на мужчин среднего телосложения JT-0320-R NAVY', 'price': '21999', 'category': '[\"Одежда\",\"Пиджаки повседневные\"]', 'link': 'https://henderson.ru/product/jt-0320-r-navy/', 'img_url': 'https://cdnstatic.henderson.ru/images/catalog/product/JT-0320-R/JT-0320-R-NAVY-5-2.jpg'}\n",
      "{'id_item': 25, 'title': 'Повседневный пиджак из шерсти, прямой силуэт JT-0364-1-R NAVY', 'price': '35999', 'category': '[\"Одежда\",\"Пиджаки повседневные\"]', 'link': 'https://henderson.ru/product/jt-0364-1-r-navy/', 'img_url': 'https://cdnstatic.henderson.ru/images/catalog/product/JT-0364-1-R/JT-0364-1-R-NAVY-5-1.jpg'}\n",
      "{'id_item': 26, 'title': 'Повседневный пиджак из твила, прилегающий силуэт JT-0365-1-SS DGREY', 'price': '19995', 'category': '[\"Одежда\",\"Пиджаки повседневные\"]', 'link': 'https://henderson.ru/product/jt-0365-1-ss-dgrey/', 'img_url': 'https://cdnstatic.henderson.ru/images/catalog/product/JT-0365-1-SS/JT-0365-1-SS-DGREY-5-1.jpg'}\n",
      "{'id_item': 27, 'title': 'Повседневный пиджак из эластичной ткани, прямой силуэт JT-0354-R NAVY', 'price': '19999', 'category': '[\"Одежда\",\"Пиджаки повседневные\"]', 'link': 'https://henderson.ru/product/jt-0354-r-navy/', 'img_url': 'https://cdnstatic.henderson.ru/images/catalog/product/JT-0354-R/JT-0354-R-NAVY-5-1.jpg'}\n",
      "{'id_item': 28, 'title': 'Повседневный пиджак из шерсти от итальянской фабрики Lanificio Zignone, прямой силуэт JT-0360-R BLUE', 'price': '42999', 'category': '[\"Одежда\",\"Пиджаки повседневные\"]', 'link': 'https://henderson.ru/product/jt-0360-r-blue/', 'img_url': 'https://cdnstatic.henderson.ru/images/catalog/product/JT-0360-R/JT-0360-R-BLUE-5-2.jpg'}\n",
      "{'id_item': 29, 'title': 'Повседневный трикотажный пиджак, прямой силуэт JT-0352-R NAVY', 'price': '13995', 'category': '[\"Одежда\",\"Пиджаки повседневные\"]', 'link': 'https://henderson.ru/product/jt-0352-r-navy/', 'img_url': 'https://cdnstatic.henderson.ru/images/catalog/product/JT-0352-R/JT-0352-R-NAVY-5-1.jpg'}\n",
      "{'id_item': 30, 'title': 'Повседневный трикотажный пиджак, прямой силуэт JT-0355-R NAVY', 'price': '19999', 'category': '[\"Одежда\",\"Пиджаки повседневные\"]', 'link': 'https://henderson.ru/product/jt-0355-r-navy/', 'img_url': 'https://cdnstatic.henderson.ru/images/catalog/product/JT-0355-R/JT-0355-R-NAVY-5-1.jpg'}\n",
      "{'id_item': 31, 'title': 'Повседневный трикотажный пиджак, прямой силуэт JT-0356-R GREY', 'price': '13995', 'category': '[\"Одежда\",\"Пиджаки повседневные\"]', 'link': 'https://henderson.ru/product/jt-0356-r-grey/', 'img_url': 'https://cdnstatic.henderson.ru/images/catalog/product/JT-0356-R/JT-0356-R-GREY-5-1.jpg'}\n",
      "{'id_item': 32, 'title': 'Повседневный пиджак из мериносовой шерсти от\\xa0итальянской фабрики Lanificio Zignone, прямой силуэт JT-0361-R LBROWN', 'price': '29995', 'category': '[\"Одежда\",\"Пиджаки повседневные\"]', 'link': 'https://henderson.ru/product/jt-0361-r-lbrown/', 'img_url': 'https://cdnstatic.henderson.ru/images/catalog/product/JT-0361-R/JT-0361-R-LBROWN-5-1.jpg'}\n",
      "{'id_item': 33, 'title': 'Жилет с воротником-шалька, прямой силуэт VC-0014-1-R NAVY', 'price': '9995', 'category': '[\"Одежда\",\"Жилеты\",\"Пиджаки повседневные\"]', 'link': 'https://henderson.ru/product/vc-0014-1-r-navy/', 'img_url': 'https://cdnstatic.henderson.ru/images/catalog/product/VC-0014-1-R/VC-0014-1-R-NAVY-5-1.jpg'}\n",
      "{'id_item': 34, 'title': 'Повседневный вельветовый пиджак, прямой силуэт JT-0318-R BEIGE', 'price': '15995', 'category': '[\"Одежда\",\"Пиджаки повседневные\"]', 'link': 'https://henderson.ru/product/jt-0318-r-beige/', 'img_url': 'https://cdnstatic.henderson.ru/images/catalog/product/JT-0318-R/JT-0318-R-BEIGE-5-1.jpg'}\n",
      "{'id_item': 35, 'title': 'Повседневный вельветовый пиджак, прямой силуэт JT-0351-R TERRACOTTA', 'price': '15995', 'category': '[\"Одежда\",\"Пиджаки повседневные\"]', 'link': 'https://henderson.ru/product/jt-0351-r-terracotta/', 'img_url': 'https://cdnstatic.henderson.ru/images/catalog/product/JT-0351-R/JT-0351-R-TERRACOTTA-5-1.jpg'}\n",
      "{'id_item': 36, 'title': 'Повседневный вельветовый пиджак, прямой силуэт JT-0350-R NAVY', 'price': '15995', 'category': '[\"Одежда\",\"Пиджаки повседневные\"]', 'link': 'https://henderson.ru/product/jt-0350-r-navy/', 'img_url': 'https://cdnstatic.henderson.ru/images/catalog/product/JT-0350-R/JT-0350-R-NAVY-5-1.jpg'}\n",
      "{'id_item': 37, 'title': 'Повседневный пиджак из мериносовой шерсти от\\xa0итальянской фабрики Lanificio Zignone, прямой силуэт, на мужчину роста ниже среднего JT-0361-RP LBROWN', 'price': '29995', 'category': '[\"Одежда\",\"Пиджаки повседневные\"]', 'link': 'https://henderson.ru/product/jt-0361-rp-lbrown/', 'img_url': 'https://cdnstatic.henderson.ru/images/catalog/product/JT-0361-RP/JT-0361-RP-LBROWN-5-1.jpg'}\n",
      "{'id_item': 38, 'title': 'Повседневный пиджак из эластичной ткани, прямой силуэт JT-0366-R NAVY', 'price': '15995', 'category': '[\"Одежда\",\"Пиджаки повседневные\"]', 'link': 'https://henderson.ru/product/jt-0366-r-navy/', 'img_url': 'https://cdnstatic.henderson.ru/images/catalog/product/JT-0366-R/JT-0366-R-NAVY-5-1.jpg'}\n",
      "{'id_item': 39, 'title': 'Повседневный пиджак из шерсти от итальянской фабрики Lanificio Bottoli, прямой силуэт JT-0362-R BLUE', 'price': '39999', 'category': '[\"Одежда\",\"Пиджаки повседневные\"]', 'link': 'https://henderson.ru/product/jt-0362-r-blue/', 'img_url': 'https://cdnstatic.henderson.ru/images/catalog/product/JT-0362-R/JT-0362-R-BLUE-5-1.jpg'}\n",
      "{'id_item': 40, 'title': 'Повседневный пиджак из шерсти от итальянской фабрики Lanificio Bottoli, прямой силуэт, на мужчин роста ниже среднего JT-0362-RP BLUE', 'price': '39999', 'category': '[\"Одежда\",\"Пиджаки повседневные\"]', 'link': 'https://henderson.ru/product/jt-0362-rp-blue/', 'img_url': 'https://cdnstatic.henderson.ru/images/catalog/product/JT-0362-RP/JT-0362-RP-BLUE-5-1.jpg'}\n",
      "{'id_item': 41, 'title': 'Повседневный пиджак из эластичной ткани, прямой силуэт JT-0358-R LBROWN', 'price': '21999', 'category': '[\"Одежда\",\"Пиджаки повседневные\"]', 'link': 'https://henderson.ru/product/jt-0358-r-lbrown/', 'img_url': 'https://cdnstatic.henderson.ru/images/catalog/product/JT-0358-R/JT-0358-R-LBROWN-5-1.jpg'}\n",
      "{'id_item': 42, 'title': 'Повседневный пиджак из эластичной ткани, прилегающий силуэт JT-0358-SS LBROWN', 'price': '21999', 'category': '[\"Одежда\",\"Пиджаки повседневные\"]', 'link': 'https://henderson.ru/product/jt-0358-ss-lbrown/', 'img_url': 'https://cdnstatic.henderson.ru/images/catalog/product/JT-0358-SS/JT-0358-SS-LBROWN-5-1.jpg'}\n",
      "{'id_item': 43, 'title': 'Повседневный пиджак из 100% шерсти, полуприлегающий силуэт, на мужчин роста выше среднего JT-0364-1-S NAVY', 'price': '35999', 'category': '[\"Одежда\",\"Пиджаки повседневные\"]', 'link': 'https://henderson.ru/product/jt-0364-1-s-navy/', 'img_url': 'https://cdnstatic.henderson.ru/images/catalog/product/JT-0364-1-S/JT-0364-1-S-NAVY-5-1.jpg'}\n",
      "{'id_item': 44, 'title': 'Повседневный трикотажный пиджак, прямой силуэт JT-0353-R BEIGE', 'price': '14995', 'category': '[\"Одежда\",\"Пиджаки повседневные\"]', 'link': 'https://henderson.ru/product/jt-0353-r-beige/', 'img_url': 'https://cdnstatic.henderson.ru/images/catalog/product/JT-0353-R/JT-0353-R-BEIGE-5-1.jpg'}\n",
      "{'id_item': 45, 'title': 'Повседневный трикотажный пиджак, прямой силуэт, на мужчин роста ниже среднего JT-0353-RP BEIGE', 'price': '14995', 'category': '[\"Одежда\",\"Пиджаки повседневные\"]', 'link': 'https://henderson.ru/product/jt-0353-rp-beige/', 'img_url': 'https://cdnstatic.henderson.ru/images/catalog/product/JT-0353-RP/JT-0353-RP-BEIGE-5-1.jpg'}\n",
      "{'id_item': 46, 'title': 'Повседневный пиджак из эластичной ткани, прилегающий силуэт,\\xa0на мужчину роста выше среднего JT-0354-S NAVY', 'price': '19999', 'category': '[\"Одежда\",\"Пиджаки повседневные\"]', 'link': 'https://henderson.ru/product/jt-0354-s-navy/', 'img_url': 'https://cdnstatic.henderson.ru/images/catalog/product/JT-0354-S/JT-0354-S-NAVY-5-1.jpg'}\n",
      "{'id_item': 47, 'title': 'Повседневный трикотажный пиджак, прямой силуэт JT-0349-R BLACK', 'price': '20995', 'category': '[\"Одежда\",\"Пиджаки повседневные\"]', 'link': 'https://henderson.ru/product/jt-0349-r-black/', 'img_url': 'https://cdnstatic.henderson.ru/images/catalog/product/JT-0349-R/JT-0349-R-BLACK-5-1.jpg'}\n",
      "{'id_item': 48, 'title': 'Повседневный пиджак изо льна от итальянской фабрики Lanificio Bottoli, прямой силуэт JT-0333-R BLUE', 'price': '23995', 'category': '[\"Одежда\",\"Пиджаки повседневные\"]', 'link': 'https://henderson.ru/product/jt-0333-r-blue/', 'img_url': 'https://cdnstatic.henderson.ru/images/catalog/product/JT-0333-R/JT-0333-R-BLUE-5-1.jpg'}\n",
      "{'id_item': 49, 'title': 'Повседневный пиджак из шерсти, льна и шелка, прямой силуэт JT-0345-R RED', 'price': '19995', 'category': '[\"Одежда\",\"Пиджаки повседневные\"]', 'link': 'https://henderson.ru/product/jt-0345-r-red/', 'img_url': 'https://cdnstatic.henderson.ru/images/catalog/product/JT-0345-R/JT-0345-R-RED-5-1.jpg'}\n",
      "{'id_item': 50, 'title': 'Пиджак шерстяной из ткани рогожка, прямой, на мужчин среднего телосложения JT-0344-R GREEN', 'price': '35999', 'category': '[\"Одежда\",\"Пиджаки повседневные\"]', 'link': 'https://henderson.ru/product/jt-0344-r-green/', 'img_url': 'https://cdnstatic.henderson.ru/images/catalog/product/JT-0344-R/JT-0344-R-GREEN-5-1.jpg'}\n",
      "{'id_item': 51, 'title': 'Пиджак шерстяной из ткани рогожка, прямой, на мужчин среднего телосложения JT-0343-R NAVY', 'price': '35999', 'category': '[\"Одежда\",\"Пиджаки повседневные\"]', 'link': 'https://henderson.ru/product/jt-0343-r-navy/', 'img_url': 'https://cdnstatic.henderson.ru/images/catalog/product/JT-0343-R/JT-0343-R-NAVY-5-1.jpg'}\n",
      "{'id_item': 52, 'title': 'Повседневный пиджак из хлопка и льна от итальянской фабрики Lanificio Bottoli,\\xa0прямой силуэт JT-0334-R BEIGE', 'price': '29995', 'category': '[\"Одежда\",\"Пиджаки повседневные\"]', 'link': 'https://henderson.ru/product/jt-0334-r-beige/', 'img_url': 'https://cdnstatic.henderson.ru/images/catalog/product/JT-0334-R/JT-0334-R-BEIGE-5-1.jpg'}\n",
      "{'id_item': 53, 'title': 'Повседневный пиджак из хлопка и льна от итальянской фабрики Lanificio Bottoli, прямой силуэт, на мужчин плотного телосложения JT-0334-RP BEIGE', 'price': '29995', 'category': '[\"Одежда\",\"Пиджаки повседневные\"]', 'link': 'https://henderson.ru/product/jt-0334-rp-beige/', 'img_url': 'https://cdnstatic.henderson.ru/images/catalog/product/JT-0334-RP/JT-0334-RP-BEIGE-5-1.jpg'}\n",
      "{'id_item': 54, 'title': 'Повседневный вельветовый пиджак, прямой силуэт JT-0348-R RUST', 'price': '13995', 'category': '[\"Одежда\",\"Пиджаки повседневные\"]', 'link': 'https://henderson.ru/product/jt-0348-r-rust/', 'img_url': 'https://cdnstatic.henderson.ru/images/catalog/product/JT-0348-R/JT-0348-R-RUST-5-1.jpg'}\n",
      "{'id_item': 55, 'title': 'Повседневный пиджак из шерсти от итальянской фабрики Drago, прямой силуэт JT-0327-R BEIGE', 'price': '23995', 'category': '[\"Одежда\",\"Пиджаки повседневные\"]', 'link': 'https://henderson.ru/product/jt-0327-r-beige/', 'img_url': 'https://cdnstatic.henderson.ru/images/catalog/product/JT-0327-R/JT-0327-R-BEIGE-5-1.jpg'}\n",
      "{'id_item': 56, 'title': 'Пиджак повседневный из смеси хлопка и льна, прямой, на мужчин среднего телосложения JT-0339-R ECRU', 'price': '11995', 'category': '[\"Одежда\",\"Пиджаки повседневные\"]', 'link': 'https://henderson.ru/product/jt-0339-r-ecru/', 'img_url': 'https://cdnstatic.henderson.ru/images/catalog/product/JT-0339-R/JT-0339-R-ECRU-5-1.jpg'}\n",
      "{'id_item': 57, 'title': 'Повседневный пиджак из хлопка и льна от итальянской фабрики Lanificio Bottoli, прямой силуэт JT-0335-R BEIGE', 'price': '29995', 'category': '[\"Одежда\",\"Пиджаки повседневные\"]', 'link': 'https://henderson.ru/product/jt-0335-r-beige/', 'img_url': 'https://cdnstatic.henderson.ru/images/catalog/product/JT-0335-R/JT-0335-R-BEIGE-5-1.jpg'}\n",
      "{'id_item': 58, 'title': 'Пиджак повседневный из смеси хлопка и льна, прямой, на мужчин среднего телосложения JT-0336-R RUST', 'price': '11995', 'category': '[\"Одежда\",\"Пиджаки повседневные\"]', 'link': 'https://henderson.ru/product/jt-0336-r-rust/', 'img_url': 'https://cdnstatic.henderson.ru/images/catalog/product/JT-0336-R/JT-0336-R-RUST-5-1.jpg'}\n",
      "{'id_item': 59, 'title': 'Повседневный пиджак из шерсти и льна от итальянской фабрики Drago, прямой силуэт JT-0328-R GREEN', 'price': '27995', 'category': '[\"Одежда\",\"Пиджаки повседневные\"]', 'link': 'https://henderson.ru/product/jt-0328-r-green/', 'img_url': 'https://cdnstatic.henderson.ru/images/catalog/product/JT-0328-R/JT-0328-R-GREEN-5-2.jpg'}\n",
      "{'id_item': 60, 'title': 'Пиджак повседневный из смеси хлопка и льна, прямой, на мужчин среднего телосложения JT-0338-R LGREEN', 'price': '23999', 'category': '[\"Одежда\",\"Пиджаки повседневные\"]', 'link': 'https://henderson.ru/product/jt-0338-r-lgreen/', 'img_url': 'https://cdnstatic.henderson.ru/images/catalog/product/JT-0338-R/JT-0338-R-LGREEN-5-1.jpg'}\n",
      "{'id_item': 61, 'title': 'Вельветовый пиджак с накладными карманами, прямой, на мужчин среднего телосложения JT-0342-R ECRU', 'price': '11995', 'category': '[\"Одежда\",\"Пиджаки повседневные\"]', 'link': 'https://henderson.ru/product/jt-0342-r-ecru/', 'img_url': 'https://cdnstatic.henderson.ru/images/catalog/product/JT-0342-R/JT-0342-R-ECRU-5-1.jpg'}\n",
      "{'id_item': 62, 'title': 'Вельветовый пиджак с накладными карманами, прямой, на мужчин среднего телосложения JT-0341-R OGREEN', 'price': '11995', 'category': '[\"Одежда\",\"Пиджаки повседневные\"]', 'link': 'https://henderson.ru/product/jt-0341-r-ogreen/', 'img_url': 'https://cdnstatic.henderson.ru/images/catalog/product/JT-0341-R/JT-0341-R-OGREEN-5-1.jpg'}\n",
      "{'id_item': 63, 'title': 'Повседневный пиджак из хлопка, прямой силуэт JT-0346-R DBLUE', 'price': '14995', 'category': '[\"Одежда\",\"Пиджаки повседневные\"]', 'link': 'https://henderson.ru/product/jt-0346-r-dblue/', 'img_url': 'https://cdnstatic.henderson.ru/images/catalog/product/JT-0346-R/JT-0346-R-DBLUE-5-1.jpg'}\n",
      "{'id_item': 64, 'title': 'Повседневный пиджак из хлопка, прямой силуэт JT-0347-R BEIGE', 'price': '14995', 'category': '[\"Одежда\",\"Пиджаки повседневные\"]', 'link': 'https://henderson.ru/product/jt-0347-r-beige/', 'img_url': 'https://cdnstatic.henderson.ru/images/catalog/product/JT-0347-R/JT-0347-R-BEIGE-5-1.jpg'}\n",
      "{'id_item': 65, 'title': 'Пиджак повседневный из хлопка и льна, полуприлегающий, на среднее телосложение рост выше среднего JT-0337-S LBLUE', 'price': '23999', 'category': '[\"Одежда\",\"Пиджаки повседневные\"]', 'link': 'https://henderson.ru/product/jt-0337-s-lblue/', 'img_url': 'https://cdnstatic.henderson.ru/images/catalog/product/JT-0337-S/JT-0337-S-LBLUE-5-1.jpg'}\n",
      "{'id_item': 66, 'title': 'Пиджак клубный из итальянской эластичной ткани Zignone JT-0329-R DNAVY', 'price': '42999', 'category': '[\"Одежда\",\"Пиджаки повседневные\",\"Клубные пиджаки\"]', 'link': 'https://henderson.ru/product/jt-0329-r-dnavy/', 'img_url': 'https://cdnstatic.henderson.ru/images/catalog/product/JT-0329-R/JT-0329-R-DNAVY-5-1.jpg'}\n",
      "{'id_item': 67, 'title': 'Пиджак повседневный из смеси хлопка и льна, прямой, на мужчин среднего телосложения JT-0337-R LBLUE', 'price': '23999', 'category': '[\"Одежда\",\"Пиджаки повседневные\"]', 'link': 'https://henderson.ru/product/jt-0337-r-lblue/', 'img_url': 'https://cdnstatic.henderson.ru/images/catalog/product/JT-0337-R/JT-0337-R-LBLUE-5-1.jpg'}\n",
      "{'id_item': 68, 'title': 'Повседневный пиджак из шерсти от итальянской фабрики Drago, прямой силуэт, на мужчин плотного телосложения JT-0327-RP BEIGE', 'price': '23995', 'category': '[\"Одежда\",\"Пиджаки повседневные\"]', 'link': 'https://henderson.ru/product/jt-0327-rp-beige/', 'img_url': 'https://cdnstatic.henderson.ru/images/catalog/product/JT-0327-RP/JT-0327-RP-BEIGE-5-1.jpg'}\n",
      "{'id_item': 69, 'title': 'Пиджак повседневный из ткани с содержанием льна, прямой, на мужчин среднего телосложения JT-0332-R BLUE', 'price': '13995', 'category': '[\"Одежда\",\"Пиджаки повседневные\"]', 'link': 'https://henderson.ru/product/jt-0332-r-blue/', 'img_url': 'https://cdnstatic.henderson.ru/images/catalog/product/JT-0332-R/JT-0332-R-BLUE-5-1.jpg'}\n",
      "{'id_item': 70, 'title': 'Фланелевый жилет из растяжимой шерстяной итальянской ткани Zignone VC-0013-R BEIGE', 'price': '7995', 'category': '[\"Одежда\",\"Пиджаки повседневные\",\"Жилеты\"]', 'link': 'https://henderson.ru/product/vc-0013-r-beige/', 'img_url': 'https://cdnstatic.henderson.ru/images/catalog/product/VC-0013-R/VC-0013-R-BEIGE-5-1.jpg'}\n",
      "{'id_item': 71, 'title': 'Пиджак из итальянской ткани Bottoli JT-0325-R BROWN', 'price': '23995', 'category': '[\"Одежда\",\"Пиджаки повседневные\"]', 'link': 'https://henderson.ru/product/jt-0325-r-brown/', 'img_url': 'https://cdnstatic.henderson.ru/images/catalog/product/JT-0325-R/JT-0325-R-BROWN-5-1.jpg'}\n",
      "{'id_item': 72, 'title': 'Трикотажный пиджак с накладными карманами, прилегающий, на мужчин худощавого телосложения JT-0320-SS NAVY', 'price': '21999', 'category': '[\"Одежда\",\"Пиджаки повседневные\"]', 'link': 'https://henderson.ru/product/jt-0320-ss-navy/', 'img_url': 'https://cdnstatic.henderson.ru/images/catalog/product/JT-0320-SS/JT-0320-SS-NAVY-5-1.jpg'}\n",
      "{'id_item': 73, 'title': 'Трикотажный жилет с рисунком ткани', 'price': '7995', 'category': '[\"Одежда\",\"Пиджаки повседневные\",\"Жилеты\"]', 'link': 'https://henderson.ru/product/vc-0011-r-grey/', 'img_url': 'https://cdnstatic.henderson.ru/images/catalog/product/VC-0011-R/VC-0011-R-GREY-5-1.jpg'}\n",
      "{'id_item': 74, 'title': 'Повседневный пиджак из смесовой ткани с содержанием шерсти от итальянской фабрики Lanificio Bottoli, прямой силуэт JT-0323-R BROWN', 'price': '15995', 'category': '[\"Одежда\",\"Пиджаки повседневные\"]', 'link': 'https://henderson.ru/product/jt-0323-r-brown/', 'img_url': 'https://cdnstatic.henderson.ru/images/catalog/product/JT-0323-R/JT-0323-R-BROWN-5-1.jpg'}\n",
      "{'id_item': 75, 'title': 'Фланелевый жилет из шерстяной ткани, прямой, на мужчин среднего телосложения VC-0012-R NAVY', 'price': '7995', 'category': '[\"Одежда\",\"Жилеты\",\"Пиджаки повседневные\"]', 'link': 'https://henderson.ru/product/vc-0012-r-navy/', 'img_url': 'https://cdnstatic.henderson.ru/images/catalog/product/VC-0012-R/VC-0012-R-NAVY-5-1.jpg'}\n",
      "{'id_item': 76, 'title': 'Повседневный трикотажный пиджак, прямой силуэт JT-0321-R GREY', 'price': '11995', 'category': '[\"Одежда\",\"Пиджаки повседневные\"]', 'link': 'https://henderson.ru/product/jt-0321-r-grey/', 'img_url': 'https://cdnstatic.henderson.ru/images/catalog/product/JT-0321-R/JT-0321-R-GREY-5-19.jpg'}\n",
      "{'id_item': 77, 'title': 'Повседневный трикотажный пиджак, полуприлегающий силуэт, на мужчин роста выше среднего JT-0321-S GREY', 'price': '11995', 'category': '[\"Одежда\",\"Пиджаки повседневные\"]', 'link': 'https://henderson.ru/product/jt-0321-s-grey/', 'img_url': 'https://cdnstatic.henderson.ru/images/catalog/product/JT-0321-S/JT-0321-S-GREY-5-1.jpg'}\n",
      "{'id_item': 78, 'title': 'Пиджак из хлопковой ткани, прямой, на мужчин среднего телосложения JT-0316-R BLUE', 'price': '9995', 'category': '[\"Одежда\",\"Пиджаки повседневные\"]', 'link': 'https://henderson.ru/product/jt-0316-r-blue/', 'img_url': 'https://cdnstatic.henderson.ru/images/catalog/product/JT-0316-R/JT-0316-R-BLUE-5-1.jpg'}\n",
      "{'id_item': 79, 'title': 'Повседневный пиджак-бомбер без подкладки, прямой силуэт JT-0311-R BEIGE', 'price': '12995', 'category': '[\"Одежда\",\"Пиджаки повседневные\",\"Пиджаки-бомберы\"]', 'link': 'https://henderson.ru/product/jt-0311-r-beige/', 'img_url': 'https://cdnstatic.henderson.ru/images/catalog/product/JT-0311-R/JT-0311-R-BEIGE-5-1.jpg'}\n",
      "{'id_item': 80, 'title': 'Повседневный пиджак из хлопка и льна, прилегающий силуэт JT-0313-SS LBLUE', 'price': '14995', 'category': '[\"Одежда\",\"Пиджаки повседневные\"]', 'link': 'https://henderson.ru/product/jt-0313-ss-lblue/', 'img_url': 'https://cdnstatic.henderson.ru/images/catalog/product/JT-0313-SS/JT-0313-SS-LBLUE-5-1.jpg'}\n",
      "{'id_item': 81, 'title': 'Повседневный пиджак из мериносовой шерсти от итальянской фабрики\\xa0Lanificio Zignone, прямой силуэт JT-0294-N GREY', 'price': '13995', 'category': '[\"Одежда\",\"Пиджаки повседневные\"]', 'link': 'https://henderson.ru/product/jt-0294-n-grey/', 'img_url': 'https://cdnstatic.henderson.ru/images/catalog/product/JT-0294-N/JT-0294-N-GREY-5-1.jpg'}\n",
      "{'id_item': 82, 'title': 'Пиджак из итальянской ткани REDA JT-0286-S NAVY', 'price': '11995', 'category': '[\"Одежда\",\"Пиджаки повседневные\"]', 'link': 'https://henderson.ru/product/jt-0286-s-navy/', 'img_url': 'https://cdnstatic.henderson.ru/images/catalog/product/JT-0286-S/JT-0286-S-NAVY-5-1.jpg'}\n",
      "{'id_item': 83, 'title': 'Пиджак из итальянской ткани REDA JT-0286-N NAVY', 'price': '11995', 'category': '[\"Одежда\",\"Пиджаки повседневные\"]', 'link': 'https://henderson.ru/product/jt-0286-n-navy/', 'img_url': 'https://cdnstatic.henderson.ru/images/catalog/product/JT-0286-N/JT-0286-N-NAVY-5-1.jpg'}\n",
      "{'id_item': 84, 'title': 'Двубортный пиджак с острыми лацканами, прямой, на мужчин среднего телосложения JT-0280-N LNAVY', 'price': '9995', 'category': '[\"Одежда\",\"Пиджаки повседневные\"]', 'link': 'https://henderson.ru/product/jt-0280-n-lnavy/', 'img_url': 'https://cdnstatic.henderson.ru/images/catalog/product/JT-0280-N/JT-0280-N-LNAVY-5-10.jpg'}\n",
      "{'id_item': 85, 'title': 'Пиджак из эластичной ткани, прямой, на мужчин среднего телосложения JT-0284-N NAVY', 'price': '7995', 'category': '[\"Одежда\",\"Пиджаки повседневные\"]', 'link': 'https://henderson.ru/product/jt-0284-n-navy/', 'img_url': 'https://cdnstatic.henderson.ru/images/catalog/product/JT-0284-N/JT-0284-N-NAVY-5-1.jpg'}\n",
      "{'id_item': 86, 'title': 'JT-0380-R BLUE', 'price': '42999', 'category': '[\"Одежда\",\"Пиджаки повседневные\"]', 'link': 'https://henderson.ru/product/jt-0380-r-blue/', 'img_url': 'https://cdnstatic.henderson.ru/images/catalog/product/JT-0380-R/JT-0380-R-BLUE-5-1.jpg'}\n",
      "{'id_item': 87, 'title': 'JT-0378-RP LNAVY', 'price': '42999', 'category': '[\"Одежда\",\"Пиджаки повседневные\"]', 'link': 'https://henderson.ru/product/jt-0378-rp-lnavy/', 'img_url': 'https://cdnstatic.henderson.ru/images/catalog/product/JT-0378-RP/JT-0378-RP-LNAVY-5-1.jpg'}\n"
     ]
    }
   ],
   "source": [
    "for item in data:\n",
    "    print(item)"
   ]
  },
  {
   "cell_type": "code",
   "execution_count": null,
   "metadata": {},
   "outputs": [],
   "source": [
    "\n",
    "df = pd.DataFrame(data)\n",
    "df.to_csv('data.csv')"
   ]
  }
 ],
 "metadata": {
  "kernelspec": {
   "display_name": "comp_env",
   "language": "python",
   "name": "python3"
  },
  "language_info": {
   "codemirror_mode": {
    "name": "ipython",
    "version": 3
   },
   "file_extension": ".py",
   "mimetype": "text/x-python",
   "name": "python",
   "nbconvert_exporter": "python",
   "pygments_lexer": "ipython3",
   "version": "3.12.3"
  }
 },
 "nbformat": 4,
 "nbformat_minor": 2
}
